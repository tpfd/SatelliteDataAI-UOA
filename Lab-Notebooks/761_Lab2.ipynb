{
  "nbformat": 4,
  "nbformat_minor": 0,
  "metadata": {
    "colab": {
      "provenance": []
    },
    "kernelspec": {
      "name": "python3",
      "display_name": "Python 3"
    },
    "language_info": {
      "name": "python"
    }
  },
  "cells": [
    {
      "cell_type": "markdown",
      "source": [
        "# Introduction\n",
        "Welcome to Lab 2, in this lab we will take our first steps into applying ML to satellite data, using landcover analysis as our primary goal.\n",
        "\n",
        "As covered in Lecture 2, landcover classification is the quintessential remote sensing task in the civil sector. The LandSat programme was originally developed in large part to enable the USA to monitor landcover more easily for a range of agricultral, govermental and finacial problemsets. It remains a primary task for governments and companies around the world.\n",
        "\n",
        "This is a pixel-wise ML task. We will apply two methods, both of which are available in GEE as ready-to-go algorithms. In this instance we are happy to go with built-in as it allows us to become familiar with an end-to-end GEE ML workflow without getting bogged down in technical detail. No need to re-invent the wheel unless you are going to the [moon](https://www.nasa.gov/feature/ames/artemis-moon-rover-s-wheels-are-ready-to-roll/).\n",
        "\n",
        "Remember that this is a set of exercises and tutorials that escalate in difficulty. Always show your working and do not neccesarily expect to get full marks on everything.\n",
        "\n",
        "Use the resources available to you outside of this material. I expect you to search for concepts or terms you do not understand and to look at the documentation of the code packages that we are using in the first instance of getting stuck.\n",
        "_______________________________________________________________________________"
      ],
      "metadata": {
        "id": "AbZaU_XVH7Zc"
      }
    },
    {
      "cell_type": "markdown",
      "source": [
        "# Set up"
      ],
      "metadata": {
        "id": "7LjIQAw2OM6N"
      }
    },
    {
      "cell_type": "code",
      "execution_count": null,
      "metadata": {
        "id": "VJI6OPweHOLP"
      },
      "outputs": [],
      "source": [
        "# Install libs if needed, note the --quiet option means a lot less annoying info than as Lab 1 when we did the same!\n",
        "!pip install geemap --quiet"
      ]
    },
    {
      "cell_type": "code",
      "source": [
        "# Set up GEE API\n",
        "import ee\n",
        "ee.Authenticate()\n",
        "ee.Initialize(project='earthengine-ml-testing') #<- Remember to change this to your own project's name!"
      ],
      "metadata": {
        "id": "oTVEkaWvOjHL"
      },
      "execution_count": null,
      "outputs": []
    },
    {
      "cell_type": "code",
      "source": [
        "# Import other libs\n",
        "import geemap\n",
        "import geopandas as gpd\n",
        "import pandas as pd"
      ],
      "metadata": {
        "id": "YIR6jwwAOs_v"
      },
      "execution_count": null,
      "outputs": []
    },
    {
      "cell_type": "markdown",
      "source": [
        "# Define Area of Interest (AOI)"
      ],
      "metadata": {
        "id": "OxOt8gypOypv"
      }
    },
    {
      "cell_type": "code",
      "source": [
        "# Define area of interest (e.g., Wellington, NZ)\n",
        "aoi = ee.Geometry.Rectangle([174.6, -41.4, 174.9, -41.2])\n",
        "Map = geemap.Map(center=[-41.3, 174.75], zoom=10)\n",
        "Map.addLayer(aoi, {}, 'AOI')\n",
        "\n",
        "# Visualize on the map to check got it right... (always a good idea)\n",
        "Map"
      ],
      "metadata": {
        "id": "609ruafINvXo"
      },
      "execution_count": null,
      "outputs": []
    },
    {
      "cell_type": "markdown",
      "source": [
        "# Load and Cloud Mask Imagery from Earth Engine"
      ],
      "metadata": {
        "id": "HEV99nmEPUbQ"
      }
    },
    {
      "cell_type": "code",
      "source": [
        "# Set up your filter Sentinel-2 imagery\n",
        "# A function that masks clouds in your S2 images via QA band\n",
        "def mask_s2_clouds(image):\n",
        "    qa = image.select('QA60')\n",
        "    cloudBitMask = 1 << 10\n",
        "    cirrusBitMask = 1 << 11\n",
        "    mask = qa.bitwiseAnd(cloudBitMask).eq(0).And(\n",
        "           qa.bitwiseAnd(cirrusBitMask).eq(0))\n",
        "    return image.updateMask(mask).divide(10000).select(['B2', 'B3', 'B4', 'B8'])\n",
        "\n",
        "# Now build the clean collection with selected bands\n",
        "s2 = (ee.ImageCollection('COPERNICUS/S2_SR_HARMONIZED')\n",
        "      .filterBounds(aoi)\n",
        "      .filterDate('2021-01-01', '2021-12-31')\n",
        "      .filter(ee.Filter.lt('CLOUDY_PIXEL_PERCENTAGE', 10))\n",
        "      .map(mask_s2_clouds)\n",
        "      .median() #<- think about this step and what it is doing to your image when you build your single composite from the image collection\n",
        "      .clip(aoi))"
      ],
      "metadata": {
        "id": "mkYl36KRNyRd"
      },
      "execution_count": null,
      "outputs": []
    },
    {
      "cell_type": "markdown",
      "source": [
        "(1) What other mathematical [compositing](https://developers.google.com/earth-engine/guides/ic_composite_mosaic) approaches could you take when building your single image from the filtered image collection you create in the cell above? Hint: you currently are doing a 'median-composite'. (3 pts)"
      ],
      "metadata": {
        "id": "koEefrEza8t3"
      }
    },
    {
      "cell_type": "code",
      "source": [
        "# Set up the visualisation and then once again check it has worked, stacking layers in a sensible order\n",
        "Map = geemap.Map(center=[-41.3, 174.75], zoom=11) #<- reset the map object to clear out other layers from earlier cells\n",
        "Map.addLayer(s2, {'bands': ['B4', 'B3', 'B2'], 'min': 0, 'max': 0.3}, 'S2 RGB')\n",
        "Map.addLayer(aoi, {'color': 'red'}, 'AOI')\n",
        "Map"
      ],
      "metadata": {
        "id": "UZ1hfnD3PZSX"
      },
      "execution_count": null,
      "outputs": []
    },
    {
      "cell_type": "markdown",
      "source": [
        "________________________________________________________________________________"
      ],
      "metadata": {
        "id": "FEDOPqbwiPmp"
      }
    },
    {
      "cell_type": "markdown",
      "source": [
        "# Training data\n",
        "\n",
        "We are going to train our data using the European Space Agency (ESA) world landcover map. Given that this is derived from satellite data our logic is at risk of becoming a little circular here. But as a training exercise it is a good way to have easy to access training data of the right size and type to apply to our image.\n",
        "\n",
        "There are a wide range of landcover datasets in the GEE catalogue that you can use for this purpose:\n",
        "*   https://developers.google.com/earth-engine/datasets/tags/landuse-landcover\n",
        "\n",
        "First, we will load in the landcover map we will use to create our training dataset (https://developers.google.com/earth-engine/datasets/catalog/ESA_WorldCover_v100):\n",
        "\n"
      ],
      "metadata": {
        "id": "eFV2IN6WVD-3"
      }
    },
    {
      "cell_type": "markdown",
      "source": [
        "Next we need to use our landcover map to [sample](https://developers.google.com/earth-engine/apidocs/ee-image-sample) the Sentinel 2 image, associating each pixel of a given landcover with the spectral band values 'beneath' it."
      ],
      "metadata": {
        "id": "PC49HraHWOih"
      }
    },
    {
      "cell_type": "code",
      "source": [
        "# Define valid WorldCover classes (10 to 100, spaced by 10)\n",
        "valid_classes = ee.List.sequence(10, 100, 10)\n",
        "\n",
        "# Need to change this to sequential list to avoid the algs thiniing there are 99 classes rather than 9\n",
        "remap_to = ee.List.sequence(1, 10)\n",
        "\n",
        "# Load landcover map\n",
        "landcover = ee.Image('ESA/WorldCover/v100/2020').select('Map').clip(aoi)\n",
        "\n",
        "# Remap labels: create a new band with remapped values (10 → 1, ..., 100 → 10)\n",
        "landcover_remapped = landcover.remap(valid_classes, remap_to).rename('Map_remapped')"
      ],
      "metadata": {
        "id": "Qxq3kumyWG0U"
      },
      "execution_count": null,
      "outputs": []
    },
    {
      "cell_type": "markdown",
      "source": [
        "(2) What year of data was this landcover map (accessed in the cell above) created on? (1 pt)"
      ],
      "metadata": {
        "id": "7v770SAWbsBg"
      }
    },
    {
      "cell_type": "code",
      "source": [
        "# Add landcover original and remapped as bands to Sentinel-2 image\n",
        "training_data = s2.addBands(landcover_remapped).addBands(landcover_remapped)"
      ],
      "metadata": {
        "id": "5dulg_UTkpkR"
      },
      "execution_count": null,
      "outputs": []
    },
    {
      "cell_type": "markdown",
      "source": [
        "Let's inspect the resulting training dataset and make sure that you understand what you have built here.\n",
        "\n",
        "We are going to:\n",
        "- Print the first few rows (client-side).\n",
        "- Check the number of samples per class (server-side with reduceColumns).\n",
        "\n",
        "This may take a little time to run as we request data both client and server side."
      ],
      "metadata": {
        "id": "n8vEEI8cYfAI"
      }
    },
    {
      "cell_type": "code",
      "source": [
        "# Sample the image\n",
        "bands = ['B2', 'B3', 'B4', 'B8']\n",
        "sample = training_data.select(bands + ['Map_remapped']).sample(\n",
        "    region=aoi,\n",
        "    scale=10,\n",
        "    numPixels=5000,\n",
        "    seed=2,\n",
        "    geometries=True)\n",
        "\n",
        "# Print first 10 sample points (client-side)\n",
        "first_10 = sample.limit(10).getInfo()\n",
        "\n",
        "print('\\nFirst 10 training samples:')\n",
        "for i, feature in enumerate(first_10['features']):\n",
        "    props = feature['properties']\n",
        "    print(f\"Sample {i+1}: Class={props['Map_remapped']}, B2={props['B2']}, B3={props['B3']}, B4={props['B4']}, B8={props['B8']}\")\n",
        "\n",
        "# Count number of samples per class (server-side)\n",
        "class_counts = sample.reduceColumns(\n",
        "    reducer=ee.Reducer.frequencyHistogram(),\n",
        "    selectors=['Map_remapped'])\n",
        "\n",
        "print('\\nClass distribution in sample:')\n",
        "print(class_counts.getInfo())\n"
      ],
      "metadata": {
        "id": "9N4ONGxYX077"
      },
      "execution_count": null,
      "outputs": []
    },
    {
      "cell_type": "markdown",
      "source": [
        "(3) What type of landcover is being sampled in sample number 2 of the dataset? Make sure your random seed is set to 2 in the sampling code so that you get the same answer as me. (1 pt)"
      ],
      "metadata": {
        "id": "B1gJiAKVcvIN"
      }
    },
    {
      "cell_type": "markdown",
      "source": [
        "We are now ready to start machine learning on classifying the landcover of Wellington!\n",
        "________________________________________________________________________________"
      ],
      "metadata": {
        "id": "QiJOePZ3XKeI"
      }
    },
    {
      "cell_type": "markdown",
      "source": [
        "# Random Forest Classification for Landcover\n",
        "Let us do machine learning properly and first apply a 70/20/10 split that allows us to produce some accuracy statistics."
      ],
      "metadata": {
        "id": "rartTYCVSQvv"
      }
    },
    {
      "cell_type": "code",
      "source": [
        "# Add random column\n",
        "sample = sample.randomColumn('random')\n",
        "\n",
        "# Split\n",
        "train = sample.filter(ee.Filter.lt('random', 0.7))\n",
        "valid = sample.filter(ee.Filter.And(ee.Filter.gte('random', 0.7), ee.Filter.lt('random', 0.9)))\n",
        "test = sample.filter(ee.Filter.gte('random', 0.9))"
      ],
      "metadata": {
        "id": "okP_9BkwSZF_"
      },
      "execution_count": null,
      "outputs": []
    },
    {
      "cell_type": "markdown",
      "source": [
        "Our next task is to set up a classifier object, followed by applying it to the image using the .classify operator. This operator hides a LOT of behind the scenes plumbing from Google.\n",
        "\n",
        "We use the [GEE Random Forest](https://developers.google.com/earth-engine/apidocs/ee-classifier-smilerandomforest) model that they have pre-built for us. Specifying the number of trees to use is the only variable we must set. Othe variables are available, read the docs!"
      ],
      "metadata": {
        "id": "GXatbmouXTcF"
      }
    },
    {
      "cell_type": "code",
      "source": [
        "# Train the RF model\n",
        "classifier = ee.Classifier.smileRandomForest(numberOfTrees=100).train(\n",
        "    features=train,\n",
        "    classProperty='Map_remapped',\n",
        "    inputProperties=bands)"
      ],
      "metadata": {
        "id": "xCL4Cw7ON30v"
      },
      "execution_count": null,
      "outputs": []
    },
    {
      "cell_type": "markdown",
      "source": [
        "With the model trained, we just apply it simply using the '.classify' operator."
      ],
      "metadata": {
        "id": "foNf7Wg6Zx0k"
      }
    },
    {
      "cell_type": "code",
      "source": [
        "# Classify image\n",
        "classified = s2.select(bands).classify(classifier)"
      ],
      "metadata": {
        "id": "Xcb1MkUiZuhU"
      },
      "execution_count": null,
      "outputs": []
    },
    {
      "cell_type": "markdown",
      "source": [
        "Let's visualize what we have just made!"
      ],
      "metadata": {
        "id": "68RI1Y8dSr7s"
      }
    },
    {
      "cell_type": "code",
      "source": [
        "# Classified image viz, fresh set up again to make sure we have exactly what we want displayed.\n",
        "Map = geemap.Map()\n",
        "Map.centerObject(aoi, 10)\n",
        "Map.addLayer(classified.randomVisualizer(), {}, 'Classified')\n",
        "Map.addLayer(landcover_remapped.randomVisualizer(), {} ,'ESA Landcover')\n",
        "Map"
      ],
      "metadata": {
        "id": "3MrnPtEMStuT"
      },
      "execution_count": null,
      "outputs": []
    },
    {
      "cell_type": "markdown",
      "source": [
        "(4) Look at the ESA landcover map and our resulting random forest classified Sentinel 2 image map. How are they different and what might be some causes of this difference? (5 pts)"
      ],
      "metadata": {
        "id": "iPXMRuwAdjT0"
      }
    },
    {
      "cell_type": "markdown",
      "source": [
        "Finally, we will apply our test data split and produce the [summary statistics](https://developers.google.com/machine-learning/crash-course/classification/accuracy-precision-recall) that we need to make smart choices about our training approach."
      ],
      "metadata": {
        "id": "2m1V4yX2UKrz"
      }
    },
    {
      "cell_type": "code",
      "source": [
        "from sklearn.metrics import confusion_matrix, classification_report\n",
        "import pandas as pd\n",
        "\n",
        "\n",
        "# Validate\n",
        "validated = valid.classify(classifier, 'predicted')\n",
        "\n",
        "# Function to export data for confusion matrix\n",
        "def fc_to_lists(fc, classProp, predProp):\n",
        "    values = fc.aggregate_array(classProp).getInfo()\n",
        "    preds = fc.aggregate_array(predProp).getInfo()\n",
        "    return values, preds\n",
        "\n",
        "# Get predicted vs actual from validation set\n",
        "y_true, y_pred = fc_to_lists(validated, 'Map_remapped', 'predicted')\n",
        "\n",
        "# Labels for original classes\n",
        "label_map = {i + 1: valid_classes.get(i).getInfo() for i in range(10)}\n",
        "label_names = [label_map[i + 1] for i in range(10)]\n",
        "\n",
        "# Confusion matrix\n",
        "cm = confusion_matrix(y_true, y_pred, labels=list(range(1, 11)))\n",
        "report = classification_report(y_true, y_pred, labels=list(range(1, 11)), target_names=[str(l) for l in label_names])\n",
        "\n",
        "# Pretty-print\n",
        "print(\"Confusion Matrix:\")\n",
        "print(pd.DataFrame(cm, index=[f\"Actual {l}\" for l in label_names],\n",
        "                       columns=[f\"Pred {l}\" for l in label_names]))\n",
        "print(\"\\nClassification Report:\")\n",
        "print(report)"
      ],
      "metadata": {
        "id": "Zsjs-kDeeRMz"
      },
      "execution_count": null,
      "outputs": []
    },
    {
      "cell_type": "markdown",
      "source": [
        "(5) Exercise: modify the code so that you feed into your random forest classifier that has been trained on 2020 data, on other years of Sentinel 2 data than 2020. Produce a publication quality figure that presents the following:\n",
        "*   Landcover maps of Wellington for 2018, 2022 and 2024\n",
        "*   The Test accuracy averages of the RF classifier for 2020.\n",
        "*   Include a sentence in your figure caption that explains why you cannot state the accuracy of the classifier for years other than 2020.\n",
        "\n",
        "(15 pts)\n",
        "_______________________________________________________________________________\n"
      ],
      "metadata": {
        "id": "bF4ehsu6eiOg"
      }
    },
    {
      "cell_type": "markdown",
      "source": [
        "# SVMs Applied to Satellite Data"
      ],
      "metadata": {
        "id": "c0yjMM0QVEE1"
      }
    },
    {
      "cell_type": "code",
      "source": [
        "# Define and train the SVM classifier\n",
        "class_property = 'Map_remapped'\n",
        "svm = ee.Classifier.libsvm(kernelType='RBF', gamma=0.5, cost=10).train(\n",
        "    features=train,\n",
        "    classProperty=class_property,\n",
        "    inputProperties=bands\n",
        ")\n",
        "\n",
        "# Classify validation and test sets\n",
        "val_classified = valid.classify(svm)\n",
        "test_classified = test.classify(svm)\n",
        "\n",
        "# Evaluate test performance\n",
        "test_matrix = test_classified.errorMatrix(class_property, 'classification')\n",
        "print(\"Confusion Matrix:\")\n",
        "print(pd.DataFrame(cm, index=[f\"Actual {l}\" for l in label_names],\n",
        "                       columns=[f\"Pred {l}\" for l in label_names]))\n",
        "print(\"\\nClassification Report:\")\n",
        "print(report)"
      ],
      "metadata": {
        "id": "nBAPJkRbV0Y9"
      },
      "execution_count": null,
      "outputs": []
    },
    {
      "cell_type": "markdown",
      "source": [
        "(6) Exercise: using an SVM model and the Landcare NZ 2024 landcover database, produce a landcover map of Great Barrier (Aotea) Island for 2018 (based off the Austral summer of 18/19).\n",
        "\n",
        "Your map should be presented at a publication quality level with all the usual map components (scale, legend, north arrow, data attribution).\n",
        "\n",
        "You will need to provide performance statistics of the model within your figure.\n",
        "\n",
        "*   Here you can access the landcover database: https://lris.scinfo.org.nz/layer/104400-lcdb-v50-land-cover-database-version-50-mainland-new-zealand/. You will need to explore for yourself how to extract this data and then upload it to colab, then how to plug it into the SVM algorithim. I have provided some starter code below.\n",
        "\n",
        "An intial workflow to get the data into the state you need it in to then use it as training data might look like:\n",
        "- Download the ZIP manually from their browser, having set your area of interest and used the 'Export' tool top right.\n",
        "- Upload it to Colab.\n",
        "- Unzip it and load with GeoPandas.\n",
        "(25 pts)\n",
        "\n"
      ],
      "metadata": {
        "id": "MnE3-ryXw891"
      }
    },
    {
      "cell_type": "code",
      "source": [
        "# Code to get you started\n",
        "import zipfile\n",
        "import geopandas as gpd\n",
        "\n",
        "# Upload the ZIP manually using the Colab UI\n",
        "from google.colab import files\n",
        "uploaded = files.upload()  # <- Expects a ZIP\n",
        "\n",
        "# Unzip\n",
        "with zipfile.ZipFile(\"LCDB_v5.zip\", 'r') as zip_ref: #<- Check file names\n",
        "    zip_ref.extractall(\"lcdb\")\n",
        "\n",
        "# Read shapefile\n",
        "gdf = gpd.read_file(\"lcdb/LCDB_v5.shp\") #<- Check file names\n",
        "print(gdf.head())\n"
      ],
      "metadata": {
        "id": "GJnG3aWQ0J90"
      },
      "execution_count": null,
      "outputs": []
    }
  ]
}