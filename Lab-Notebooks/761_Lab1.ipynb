{
  "nbformat": 4,
  "nbformat_minor": 0,
  "metadata": {
    "colab": {
      "provenance": []
    },
    "kernelspec": {
      "name": "python3",
      "display_name": "Python 3"
    },
    "language_info": {
      "name": "python"
    }
  },
  "cells": [
    {
      "cell_type": "markdown",
      "source": [
        "# Introduction\n",
        "The primary objective of this lab is to familiarise you with the basic mechanics that allow you to get hold of satellite data for the purposes of carrying out machine learning. The second objective is for you to put into practice some of the theory that we covered in lecture 1, in order that you can start to understand some of the specific quirks and potentially powerful attributes of satellite data when it comes to applying machine learning techniques.\n",
        "\n",
        "This lab has drawn upon the following sources, tutorials and repos:\n",
        "\n",
        "\n",
        "*   https://geemap.org/\n",
        "*   https://developers.google.com/earth-engine\n",
        "\n",
        "Whenever you see a numbered question, e.g. '(1)', make sure that you answer it in the answer proforma and submit the resulting document on Canvas. Only submit in .docx or .pdf formats (we cannot open 'pages' etc docs on Canvas).\n",
        "\n",
        "Some of the questions will be relatively simple and are designed to get you thinking about the nature of the code and what it is doing, whilst also requiring you to pull in theoretical knowledge from the lectures. Other questions are exercises that ask you to both apply this knowledege to a new challenge and/or require you to independently go and seek answers.\n",
        "\n",
        "In all cases I encourage you to give it a go, even if you do not have the full answer. Particularly for the larger challenges ('Exercises'), marks are awarded for workings and I want to see your thought process in action via the code you write.\n",
        "\n",
        "Use text comments as demonstrated in these lab instructions to explain your thinking and communicate with the person marking your work.\n",
        "\n",
        "I use both comments above chunks of code to tell you the overall objectives of that code, and inline comments to highlight specific features and elements to be aware of (formatted like this to draw your attention '#<-')."
      ],
      "metadata": {
        "id": "dXASJWLQjRGy"
      }
    },
    {
      "cell_type": "markdown",
      "source": [
        "# Set up"
      ],
      "metadata": {
        "id": "N9TRUDBpiy5j"
      }
    },
    {
      "cell_type": "code",
      "execution_count": null,
      "metadata": {
        "id": "c9JFCuTacUF6"
      },
      "outputs": [],
      "source": [
        "# Set up GEE API\n",
        "import ee\n",
        "ee.Authenticate()\n",
        "ee.Initialize(project='earthengine-ml-testing')"
      ]
    },
    {
      "cell_type": "code",
      "source": [
        "# Install the geemap package (only needs to be run once, uncomment below and run it the first time you run this notebook in a session).\n",
        "# !pip install geemap"
      ],
      "metadata": {
        "id": "jYxxrqP0cfX3"
      },
      "execution_count": null,
      "outputs": []
    },
    {
      "cell_type": "code",
      "source": [
        "import geemap"
      ],
      "metadata": {
        "id": "MD1USx0wdLS9"
      },
      "execution_count": null,
      "outputs": []
    },
    {
      "cell_type": "markdown",
      "source": [
        "# Loading a map and displaying satellite data"
      ],
      "metadata": {
        "id": "PTy5Ehhyi4Zj"
      }
    },
    {
      "cell_type": "code",
      "source": [
        "# Use the built in functions to load an ipyleaflet basemap (aka a UI to explore and see what we are doing)\n",
        "Map = geemap.Map(center=(-41, 172), zoom=4)\n",
        "Map"
      ],
      "metadata": {
        "id": "yMumuziPdGJK"
      },
      "execution_count": null,
      "outputs": []
    },
    {
      "cell_type": "code",
      "source": [
        "# Specify a different kind of basemap to display data layers over\n",
        "Map = geemap.Map(center=(-41, 172), zoom=4) #<- note the lat-lon coordinate pair here\n",
        "Map.add_basemap(\"HYBRID\")\n",
        "Map"
      ],
      "metadata": {
        "id": "y74-9DiKdfsk"
      },
      "execution_count": null,
      "outputs": []
    },
    {
      "cell_type": "markdown",
      "source": [
        "(1) Find and add the basemap 'OpenTopoMap' to the display window AND change the code so that the map opens and zooms to the city of Auckland.\n",
        "Provide a screenshot of your code and the output. (2 pts)"
      ],
      "metadata": {
        "id": "i0aW9ys8dymp"
      }
    },
    {
      "cell_type": "code",
      "source": [
        "# Add Earth Engine datasets to our map by first creating variables to hold the calls to the EE api\n",
        "Map = geemap.Map(center=(-41, 172), zoom=4)\n",
        "dem = ee.Image(\"USGS/SRTMGL1_003\")\n",
        "landcover = ee.Image(\"ESA/GLOBCOVER_L4_200901_200912_V2_3\").select(\"landcover\")\n",
        "landsat7 = ee.Image(\"LANDSAT/LE7_TOA_5YEAR/1999_2003\")\n",
        "states = ee.FeatureCollection(\"TIGER/2018/States\")"
      ],
      "metadata": {
        "id": "vvCt5j8vd6u4"
      },
      "execution_count": null,
      "outputs": []
    },
    {
      "cell_type": "code",
      "source": [
        "# Set visualization parameters.\n",
        "vis_params = {\n",
        "    \"min\": 0,\n",
        "    \"max\": 4000, #<- if your satellite image is all white or all black, these vis params are the first thing to check and change\n",
        "    \"palette\": [\"006633\", \"E5FFCC\", \"662A00\", \"D8D8D8\", \"F5F5F5\"], #<- these are HTML colour codes\n",
        "}"
      ],
      "metadata": {
        "id": "zdibnTsTfdlU"
      },
      "execution_count": null,
      "outputs": []
    },
    {
      "cell_type": "code",
      "source": [
        "# Add a variety of different Earth Engine layers to the Map object\n",
        "Map.addLayer(dem, vis_params, \"SRTM DEM\", True, 0.5) #<- note vis params called from the dictionary we set up before\n",
        "Map.addLayer(landcover, {}, \"Land cover\")\n",
        "Map.addLayer(\n",
        "    landsat7, {\"bands\": [\"B4\", \"B3\", \"B2\"], \"min\": 20, \"max\": 200}, \"Landsat 7\" #<- note vis params in a dictionary here inside the add layer call\n",
        ")\n",
        "Map.addLayer(states, {}, \"US States\")"
      ],
      "metadata": {
        "id": "-2DE6HavffHx"
      },
      "execution_count": null,
      "outputs": []
    },
    {
      "cell_type": "code",
      "source": [
        "# Dump all of this into the map view and take a look...\n",
        "Map"
      ],
      "metadata": {
        "id": "7yfvDNwtf1rB"
      },
      "execution_count": null,
      "outputs": []
    },
    {
      "cell_type": "markdown",
      "source": [
        "(2) The Landsat 7 data displays as red colored/tinged image. Why is this? [Think about both the content in Lecture 1, and what is going on when you visualize a satellite image]. (2 pts)"
      ],
      "metadata": {
        "id": "Too_IlxZgDGt"
      }
    },
    {
      "cell_type": "markdown",
      "source": [
        "(3) Correct the display of the Landsat 7 image so that it displays in '[True Colour](https://ie.unc.edu/wp-content/uploads/sites/277/2014/12/How-Satellite-images-are-different-from-photographs.pdf)'. Provide a screenshot of your code and the corrected output over the whole of New Zealand. (10 pts)"
      ],
      "metadata": {
        "id": "ZgnZeKjsgci1"
      }
    },
    {
      "cell_type": "markdown",
      "source": [
        "# Spectral reflectance curves\n",
        "Next we we will generate a spectral reflectance curve for a given area.\n",
        "This is a useful tool when you are considering if a given target has spectral characteristics for identification in ML. If everything has the same spectral signature, then you need to take a different approach to a simple spectral classification, as might have been the first instinct of a classical remote sensing scientist."
      ],
      "metadata": {
        "id": "DBwBTqnmiZu-"
      }
    },
    {
      "cell_type": "code",
      "source": [
        "# Add in a library for plotting the data we extract\n",
        "import matplotlib.pyplot as plt"
      ],
      "metadata": {
        "id": "bHUySOgMmaJJ"
      },
      "execution_count": null,
      "outputs": []
    },
    {
      "cell_type": "code",
      "source": [
        "# Define a point and a small rectangular region around it\n",
        "point = ee.Geometry.Point([174.7633, -36.8485])  # Auckland, NZ\n",
        "region = point.buffer(150).bounds()  # ~300 m box"
      ],
      "metadata": {
        "id": "wW-SLSB4gCM2"
      },
      "execution_count": null,
      "outputs": []
    },
    {
      "cell_type": "code",
      "source": [
        "# Load a Landsat 7 Collection 2 Level 2 SR image (surface reflectance)\n",
        "image = ee.ImageCollection('LANDSAT/LE07/C02/T1_L2') \\\n",
        "    .filterBounds(region) \\\n",
        "    .filterDate('2002-01-01', '2002-12-31') \\\n",
        "    .sort('CLOUD_COVER') \\\n",
        "    .first()"
      ],
      "metadata": {
        "id": "Cr0w1uqojOKT"
      },
      "execution_count": null,
      "outputs": []
    },
    {
      "cell_type": "markdown",
      "source": [
        "(4) Why are we using the surface reflectance (SR) here rather than the top of atmosphere (ToA)? (2 pt)"
      ],
      "metadata": {
        "id": "_ckqaP_xm7xv"
      }
    },
    {
      "cell_type": "code",
      "source": [
        "# Select surface reflectance bands and apply scale factor\n",
        "bands = ['SR_B1', 'SR_B2', 'SR_B3', 'SR_B4', 'SR_B5', 'SR_B7']\n",
        "band_names = {\n",
        "    'SR_B1': 'Blue (0.45–0.52 μm)',\n",
        "    'SR_B2': 'Green (0.52–0.60 μm)',\n",
        "    'SR_B3': 'Red (0.63–0.69 μm)',\n",
        "    'SR_B4': 'NIR (0.77–0.90 μm)',\n",
        "    'SR_B5': 'SWIR1 (1.55–1.75 μm)',\n",
        "    'SR_B7': 'SWIR2 (2.09–2.35 μm)'\n",
        "}\n",
        "\n",
        "scale_factor = 2.75e-5  # From USGS documentation for Landsat C2 L2"
      ],
      "metadata": {
        "id": "rlAlH7bimSDs"
      },
      "execution_count": null,
      "outputs": []
    },
    {
      "cell_type": "markdown",
      "source": [
        "(5) What is a 'scale factor' as has been used in the prior code cell, and why are they used in satellite data storage-to-processing workflows such as this? (2 pts)"
      ],
      "metadata": {
        "id": "Dq5PpfBfnJhF"
      }
    },
    {
      "cell_type": "markdown",
      "source": [
        "**Important sidenote**\n",
        "\n",
        "The 'reduce' operation is a key concept in the backend of how Google is storing and serving us large quanities of satellite data. GEE uses 'reducers' in multiple ways, many of which are not always immediately intuitive. Check out the docs for more information:\n",
        "\n",
        "*   https://developers.google.com/earth-engine/guides/reducers_intro\n",
        "\n",
        "Here we are using a reduce operation over the specified small sample area in order to find the mean of all the cells that lie within the region:"
      ],
      "metadata": {
        "id": "bPlWIhC5ncNq"
      }
    },
    {
      "cell_type": "code",
      "source": [
        "# Reduce region to mean reflectance\n",
        "mean_dict = image.select(bands).reduceRegion(\n",
        "    reducer=ee.Reducer.mean(),\n",
        "    geometry=region,\n",
        "    scale=30,\n",
        "    maxPixels=1e6\n",
        ")"
      ],
      "metadata": {
        "id": "4CC_ICuMmUTq"
      },
      "execution_count": null,
      "outputs": []
    },
    {
      "cell_type": "code",
      "source": [
        "# Extract and scale values\n",
        "mean_values = mean_dict.getInfo()\n",
        "reflectance = [mean_values[b] * scale_factor for b in bands]\n",
        "\n",
        "# Plot the spectral curve\n",
        "plt.figure(figsize=(10, 5))\n",
        "plt.plot(list(band_names.values()), reflectance, marker='o', linestyle='-')\n",
        "plt.title('Spectral Reflectance Curve (Landsat 7)')\n",
        "plt.ylabel('Reflectance')\n",
        "plt.xticks(rotation=45)\n",
        "plt.grid(True)\n",
        "plt.tight_layout()\n",
        "plt.show()"
      ],
      "metadata": {
        "id": "YoxOBEcLmWFq"
      },
      "execution_count": null,
      "outputs": []
    },
    {
      "cell_type": "markdown",
      "source": [
        "(6) If we want to apply multiple reducers to the same inputs what is a more efficient way to do so than just writing out a long series of sequential reducers on our end? (2 pts)"
      ],
      "metadata": {
        "id": "edNBBEAXoOPX"
      }
    },
    {
      "cell_type": "markdown",
      "source": [
        "# Cloud cover\n",
        "A final consideration that I want to cover in this lab is that of cloud cover. Cloud cover removal is a complex and often difficut process that GISCI 341 students spend an entire two weeks tackling as a focus (so use them in your teams!). However, for our purpose here lets just use the basic in-built cloud clearing native to the Landsat 7 collection on GEE."
      ],
      "metadata": {
        "id": "rJJwlpjY0G0j"
      }
    },
    {
      "cell_type": "code",
      "source": [
        "# Define small region around Auckland, NZ\n",
        "point = ee.Geometry.Point([174.7633, -36.8485])\n",
        "region = point.buffer(500).bounds()\n",
        "\n",
        "# Load the image with least cloud cover in 2002\n",
        "image = ee.ImageCollection(\"LANDSAT/LE07/C02/T1_L2\") \\\n",
        "    .filterBounds(region) \\\n",
        "    .filterDate(\"2002-01-01\", \"2002-12-31\") \\\n",
        "    .sort(\"CLOUD_COVER\") \\\n",
        "    .first() #<- note the filtering step that is being applied here! We are taking the first image in a sorted by cloud cover response.\n",
        "\n",
        "# Check metadata\n",
        "print('Image ID:', image.get('LANDSAT_PRODUCT_ID').getInfo())\n",
        "print('Cloud Cover (whole scene):', image.get('CLOUD_COVER').getInfo())"
      ],
      "metadata": {
        "id": "uGzB4D7Y1FLG"
      },
      "execution_count": null,
      "outputs": []
    },
    {
      "cell_type": "code",
      "source": [
        "# Function to mask clouds using QA_PIXEL band\n",
        "def mask_clouds(image):\n",
        "    qa = image.select('QA_PIXEL')\n",
        "    # Bits 3 and 4 are cloud and cloud shadow respectively\n",
        "    cloud_mask = qa.bitwiseAnd(1 << 3).eq(0).And(\n",
        "                 qa.bitwiseAnd(1 << 4).eq(0))\n",
        "    return image.updateMask(cloud_mask)\n",
        "\n",
        "# Apply mask\n",
        "masked_image = mask_clouds(image)"
      ],
      "metadata": {
        "id": "Ac8VhaBY1Njs"
      },
      "execution_count": null,
      "outputs": []
    },
    {
      "cell_type": "markdown",
      "source": [
        "**Important side note**\n",
        "\n",
        "In the function above we are using a bitwise operation in order to search through the quality assurance (QA) band of the image. Different satellites have different bit-masks. Read more about bitmasks and how they are used here:\n",
        "*   https://spatialthoughts.com/2021/08/19/qa-bands-bitmasks-gee/\n",
        "\n"
      ],
      "metadata": {
        "id": "w1qhc37Z5k4A"
      }
    },
    {
      "cell_type": "markdown",
      "source": [
        "**Another important side note**\n",
        "\n",
        "You will have noticed that we are frequently running code and not seeing anything happen in terms of output in the cell or changes in the RAM/Disk of the Colab instance (check the small graphs top right). This is deliberate! Satellite data is large and hard to wrangle. GEE does a lot of the work for us, hence we can explore and get into it so quickly. Part of how it does this is by not executing any of your API calls until you specifically ask for an output to be sent back to you. Prior to calling an output (usually through a 'AddLayer' or similar call), when using the GEE/EE API you are essentially chaining together a lot of dot-operators (e.g. '.sort \\ .reduce') into a series of instructions that are verified, but only then acted on when required.\n",
        "\n",
        "This is the result of a 'client vs. server' approach. For more detail, that will help you understand why you can and cannot do certain things, see:\n",
        "*   https://developers.google.com/earth-engine/guides/client_server\n",
        "\n"
      ],
      "metadata": {
        "id": "ruLDQPFw_Cy1"
      }
    },
    {
      "cell_type": "code",
      "source": [
        "# Report Image Quality Over ROI\n",
        "# Total pixels in region\n",
        "pixel_area = ee.Image.pixelArea().clip(region)\n",
        "\n",
        "# Count valid pixels before and after masking\n",
        "total_pixels = pixel_area.reduceRegion(\n",
        "    reducer=ee.Reducer.count(),\n",
        "    geometry=region,\n",
        "    scale=30,\n",
        "    maxPixels=1e9\n",
        ").getInfo()['area']\n",
        "\n",
        "valid_pixels = masked_image.select('SR_B3').reduceRegion(\n",
        "    reducer=ee.Reducer.count(),\n",
        "    geometry=region,\n",
        "    scale=30,\n",
        "    maxPixels=1e9\n",
        ").getInfo()['SR_B3']\n",
        "\n",
        "cloud_coverage_pct = 100 * (1 - valid_pixels / total_pixels)\n",
        "\n",
        "print(f\"Total Pixels: {total_pixels}\")\n",
        "print(f\"Valid (non-cloud) Pixels: {valid_pixels}\")\n",
        "print(f\"Estimated Cloud Coverage in ROI: {cloud_coverage_pct:.2f}%\")"
      ],
      "metadata": {
        "id": "8S1aE6c51hmu"
      },
      "execution_count": null,
      "outputs": []
    },
    {
      "cell_type": "code",
      "source": [
        "# Visualize the before and after\n",
        "Map = geemap.Map(center=[-36.8485, 174.7633], zoom=12)\n",
        "\n",
        "vis = {\n",
        "    'bands': ['SR_B3', 'SR_B2', 'SR_B1'],\n",
        "    'min': 0,\n",
        "    'max': 30000,\n",
        "    'gamma': 1.4\n",
        "}\n",
        "\n",
        "Map.addLayer(image, vis, 'Original Image (Cloudy)')\n",
        "Map.addLayer(masked_image, vis, 'Cloud Masked')\n",
        "Map"
      ],
      "metadata": {
        "id": "BJ8939DA1qMt"
      },
      "execution_count": null,
      "outputs": []
    },
    {
      "cell_type": "markdown",
      "source": [
        "(7) Produce a table that describes the lowest amount of cloud cover (i.e. the amount of cloud cover in the image of the year with the lowest amount of cloud) per year for 2005, 2010 and 2015. Do this over a region of your choice, as a percentage. Provide a screenshot of your code that does so, in addition to your table. (5 pts)"
      ],
      "metadata": {
        "id": "1NZOMs5U142p"
      }
    },
    {
      "cell_type": "markdown",
      "source": [
        "# Final exercise\n",
        "Let us now be very fancy and plot our spectral reflectance curve along with a display of the satellite data that it was generated from. As well as being fancy, this lets us see that what we have done here is sample the urban fabric of downtown Auckland and collect the spectral signature of 'urban'.\n",
        "\n",
        "The code block below is large and calls in some further packages as we start to push beyond what is already built into geemap. I have also placed all the required code in one cell as I am about to ask you to do something with it... Make sure that you take the time understand what each section is doing and why. Consider starting to break this code down into functions that you can re-use later."
      ],
      "metadata": {
        "id": "ED8Er4U1uHaA"
      }
    },
    {
      "cell_type": "code",
      "source": [
        "# Additional required packages\n",
        "import matplotlib.patches as patches\n",
        "import urllib.request\n",
        "import tempfile\n",
        "import matplotlib.image as mpimg\n",
        "\n",
        "# Define point and regions\n",
        "point = ee.Geometry.Point([174.7633, -36.8485])\n",
        "region = point.buffer(150).bounds()        # ~300 m box\n",
        "expanded_region = point.buffer(1000).bounds()  # box for image preview\n",
        "\n",
        "# Load Landsat 7 surface reflectance image\n",
        "image = ee.ImageCollection('LANDSAT/LE07/C02/T1_L2') \\\n",
        "    .filterBounds(region) \\\n",
        "    .filterDate('2002-01-01', '2002-12-31') \\\n",
        "    .sort('CLOUD_COVER') \\\n",
        "    .first()\n",
        "\n",
        "# Define bands and scaling\n",
        "bands = ['SR_B1', 'SR_B2', 'SR_B3', 'SR_B4', 'SR_B5', 'SR_B7']\n",
        "band_names = {\n",
        "    'SR_B1': 'Blue (0.45–0.52 μm)',\n",
        "    'SR_B2': 'Green (0.52–0.60 μm)',\n",
        "    'SR_B3': 'Red (0.63–0.69 μm)',\n",
        "    'SR_B4': 'NIR (0.77–0.90 μm)',\n",
        "    'SR_B5': 'SWIR1 (1.55–1.75 μm)',\n",
        "    'SR_B7': 'SWIR2 (2.09–2.35 μm)'\n",
        "}\n",
        "scale_factor = 2.75e-5\n",
        "\n",
        "# Calculate mean reflectance\n",
        "mean_dict = image.select(bands).reduceRegion(\n",
        "    reducer=ee.Reducer.mean(),\n",
        "    geometry=region,\n",
        "    scale=30,\n",
        "    maxPixels=1e6).getInfo()\n",
        "\n",
        "reflectance = [mean_dict[b] * scale_factor for b in bands]\n",
        "labels = list(band_names.values())\n",
        "\n",
        "# Get RGB thumbnail slightly zoomed out\n",
        "thumb_params = {\n",
        "    'dimensions': 512,\n",
        "    'region': expanded_region,\n",
        "    'format': 'png',\n",
        "    'bands': ['SR_B3', 'SR_B2', 'SR_B1'],\n",
        "    'min': 0,\n",
        "    'max': 30000,\n",
        "    'gamma': 1.4\n",
        "}\n",
        "url = image.getThumbURL(thumb_params)\n",
        "\n",
        "# Get coordinates of regions\n",
        "def get_bounds_coords(bounds):\n",
        "    coords = bounds.coordinates().getInfo()[0]\n",
        "    lons = [pt[0] for pt in coords]\n",
        "    lats = [pt[1] for pt in coords]\n",
        "    return min(lons), max(lons), min(lats), max(lats)\n",
        "\n",
        "# Extract bounding boxes\n",
        "xmin, xmax, ymin, ymax = get_bounds_coords(expanded_region)\n",
        "rxmin, rxmax, rymin, rymax = get_bounds_coords(region)\n",
        "\n",
        "# Plot both panels\n",
        "fig, (ax1, ax2) = plt.subplots(2, 1, figsize=(8, 8), gridspec_kw={'height_ratios': [2, 1]})\n",
        "\n",
        "# Load and plot image with annotation\n",
        "with tempfile.NamedTemporaryFile(suffix=\".png\") as f:\n",
        "    urllib.request.urlretrieve(url, f.name)\n",
        "    img = mpimg.imread(f.name)\n",
        "    ax1.imshow(img, extent=[xmin, xmax, ymin, ymax])\n",
        "    ax1.set_title(\"Landsat 7 Image\")\n",
        "    ax1.set_xlim(xmin, xmax)\n",
        "    ax1.set_ylim(ymin, ymax)\n",
        "\n",
        "    # Add red rectangle for region of interest\n",
        "    width = rxmax - rxmin\n",
        "    height = rymax - rymin\n",
        "    rect = patches.Rectangle((rxmin, rymin), width, height,\n",
        "                             linewidth=2, edgecolor='red', facecolor='none')\n",
        "    ax1.add_patch(rect)\n",
        "    ax1.set_xlabel(\"Longitude\")\n",
        "    ax1.set_ylabel(\"Latitude\")\n",
        "\n",
        "# Plot reflectance\n",
        "ax2.plot(labels, reflectance, marker='o', color='blue')\n",
        "ax2.set_title(\"Spectral Reflectance Curve\")\n",
        "ax2.set_ylabel(\"Reflectance\")\n",
        "ax2.set_xticks(range(len(labels)))\n",
        "ax2.set_xticklabels(labels, rotation=45, ha='right')\n",
        "ax2.grid(True)\n",
        "\n",
        "plt.tight_layout()\n",
        "plt.show()\n"
      ],
      "metadata": {
        "id": "fQeeZDIwp3oY"
      },
      "execution_count": null,
      "outputs": []
    },
    {
      "cell_type": "markdown",
      "source": [
        "(8) Exercise: Using Sentinel 2, create a figure that does the following over the city of Christchurch, NZ:\n",
        "*   Conduct a basic quality assessment of the data you use, using a cloudy pixel % estimate.\n",
        "* Describe/show the spectral reflectance signatures of: urban, forest, grassland, water and bare soil.\n",
        "* Illustrates the sample areas that you have used to create these spectral signatures.\n",
        "\n",
        "Provide a publication quality copy of this figure in the answer proforma. Publication quality means that:  \n",
        "1.   It is at a good quality (resolution) and not blurry.\n",
        "2.   The font size of all elements is big enough to read easily on a screen when placed in the document.\n",
        "3. Has a figure caption that ensures the reader knows what you have done and why.\n",
        "4. Tells the story 'at a glance'. Don't make your viewer work too hard to understand your core message.\n",
        "\n",
        "(25 pts)\n",
        "\n",
        "\n"
      ],
      "metadata": {
        "id": "aZWeXDK1pthR"
      }
    }
  ]
}