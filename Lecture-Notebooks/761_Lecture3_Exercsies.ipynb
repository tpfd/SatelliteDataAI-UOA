{
  "nbformat": 4,
  "nbformat_minor": 0,
  "metadata": {
    "colab": {
      "provenance": []
    },
    "kernelspec": {
      "name": "python3",
      "display_name": "Python 3"
    },
    "language_info": {
      "name": "python"
    }
  },
  "cells": [
    {
      "cell_type": "markdown",
      "source": [
        "# Clustering with K-means\n",
        "Learning Goals:\n",
        "- Understand how K-means clusters data in 2-dimensional feature space.\n",
        "- Apply K-means clustering to classify satellite pixels.\n",
        "- Visualise results using geemap and compare them with RGB and NDVI layers.\n",
        "\n"
      ],
      "metadata": {
        "id": "5hchE14pjrYE"
      }
    },
    {
      "cell_type": "markdown",
      "source": [
        "_______________________________________________________________________________\n",
        "# K-means on synthetic data\n",
        "First, let us generate some fake data that does not have labels but that does have a clear clustering structure within it."
      ],
      "metadata": {
        "id": "ooIFoRV9jz2r"
      }
    },
    {
      "cell_type": "code",
      "execution_count": null,
      "metadata": {
        "id": "MxDrspwLh3lf"
      },
      "outputs": [],
      "source": [
        "import numpy as np\n",
        "import matplotlib.pyplot as plt\n",
        "from sklearn.cluster import KMeans\n",
        "\n",
        "# Generate 3 clusters of 2D points\n",
        "np.random.seed(42)\n",
        "cluster_1 = np.random.normal(loc=[2, 2], scale=0.5, size=(100, 2))\n",
        "cluster_2 = np.random.normal(loc=[6, 6], scale=0.5, size=(100, 2))\n",
        "cluster_3 = np.random.normal(loc=[2, 6], scale=0.5, size=(100, 2))\n",
        "\n",
        "data = np.vstack((cluster_1, cluster_2, cluster_3))\n",
        "\n",
        "# Plot the unlabelled data\n",
        "plt.scatter(data[:, 0], data[:, 1], c='gray')\n",
        "plt.title(\"Unlabelled Fake Data\")\n",
        "plt.xlabel(\"Feature 1\")\n",
        "plt.ylabel(\"Feature 2\")\n",
        "plt.show()"
      ]
    },
    {
      "cell_type": "markdown",
      "source": [
        "Next, apply the K-means alg."
      ],
      "metadata": {
        "id": "W875P2c_kJWj"
      }
    },
    {
      "cell_type": "code",
      "source": [
        "kmeans = KMeans(n_clusters=3, random_state=0).fit(data)\n",
        "labels = kmeans.labels_\n",
        "\n",
        "# Visualize the clustering\n",
        "plt.scatter(data[:, 0], data[:, 1], c=labels, cmap='Set1')\n",
        "plt.scatter(kmeans.cluster_centers_[:, 0], kmeans.cluster_centers_[:, 1],\n",
        "            c='black', marker='x', s=100, label='Centroids')\n",
        "plt.title(\"K-Means Clustering on Fake Data\")\n",
        "plt.legend()\n",
        "plt.show()"
      ],
      "metadata": {
        "id": "0v2anGo8j_dD"
      },
      "execution_count": null,
      "outputs": []
    },
    {
      "cell_type": "markdown",
      "source": [
        "Let's move some of these clusters closer to each other..."
      ],
      "metadata": {
        "id": "eoAHNSOLkSw7"
      }
    },
    {
      "cell_type": "code",
      "source": [
        "# Generate 3 clusters of 2D points that overlap\n",
        "np.random.seed(42)\n",
        "cluster_1 = np.random.normal(loc=[2, 2], scale=0.5, size=(100, 2))\n",
        "cluster_2 = np.random.normal(loc=[6, 6], scale=0.5, size=(100, 2))\n",
        "cluster_3 = np.random.normal(loc=[4, 4], scale=0.8, size=(100, 2)) #<- Here is where I moved (loc) the third cluster to sit between the other two and dispersed it further (scale)\n",
        "\n",
        "data = np.vstack((cluster_1, cluster_2, cluster_3))\n",
        "\n",
        "# Plot the unlabelled data\n",
        "plt.scatter(data[:, 0], data[:, 1], c='gray')\n",
        "plt.title(\"Unlabelled Fake Data\")\n",
        "plt.xlabel(\"Feature 1\")\n",
        "plt.ylabel(\"Feature 2\")\n",
        "plt.show()"
      ],
      "metadata": {
        "id": "jfCG9GV2kVMK"
      },
      "execution_count": null,
      "outputs": []
    },
    {
      "cell_type": "markdown",
      "source": [
        "Let us apply the K-means once more...."
      ],
      "metadata": {
        "id": "OR0W0Ey5mC4G"
      }
    },
    {
      "cell_type": "code",
      "source": [
        "kmeans = KMeans(n_clusters=3, random_state=0).fit(data)\n",
        "labels = kmeans.labels_\n",
        "\n",
        "# Visualize the clustering\n",
        "plt.scatter(data[:, 0], data[:, 1], c=labels, cmap='Set1')\n",
        "plt.scatter(kmeans.cluster_centers_[:, 0], kmeans.cluster_centers_[:, 1],\n",
        "            c='black', marker='x', s=100, label='Centroids')\n",
        "plt.title(\"K-Means Clustering on Fake Data That Overlaps\")\n",
        "plt.legend()\n",
        "plt.show()"
      ],
      "metadata": {
        "id": "lIYfJWznmJja"
      },
      "execution_count": null,
      "outputs": []
    },
    {
      "cell_type": "markdown",
      "source": [
        "Exercise: alter the dispersion and position of the first cluster so that it interacts more with the third.\n",
        "*   Set the position to [3,2] and the scale (dispersion) to 0.6\n",
        "\n",
        "As a pair, discuss if the resulting clusters that are found are truly meaninful?Should this data now be two clusters rather than three?\n",
        "\n",
        "Then, add a fourth cluster to our synthetic data:\n",
        "*   At position [2,7] with scale 0.5, but leave k-means set to n_clusters=3.\n",
        "\n",
        "Does the resulting clustering change your answer to the above question?"
      ],
      "metadata": {
        "id": "LiNGXHNCmZzc"
      }
    },
    {
      "cell_type": "code",
      "source": [
        "# Use this code cell to copy in the example code above and modify it to answer the k-means exercise so that you can compare results more easily\n"
      ],
      "metadata": {
        "id": "hIXFMUl9mjgH"
      },
      "execution_count": null,
      "outputs": []
    },
    {
      "cell_type": "markdown",
      "source": [
        "________________________________________________________________________________\n",
        "# K-means on Sentinel 2\n",
        "Now we will have a first run at applying un-supervised classification on satellite data."
      ],
      "metadata": {
        "id": "p1oisjTZn1tz"
      }
    },
    {
      "cell_type": "code",
      "source": [
        "# Our usual set up for ee and geemap\n",
        "import ee\n",
        "import geemap\n",
        "\n",
        "ee.Authenticate()\n",
        "ee.Initialize(project='earthengine-ml-testing') #<- Remember to change this to your own project's name!"
      ],
      "metadata": {
        "id": "8t9AE5qToD2Z"
      },
      "execution_count": null,
      "outputs": []
    },
    {
      "cell_type": "markdown",
      "source": [
        "Load Sentinel 2 and grab the bands we want from the area we want:"
      ],
      "metadata": {
        "id": "CmR0PDIXo4Ix"
      }
    },
    {
      "cell_type": "code",
      "source": [
        "# Auckland area\n",
        "point = ee.Geometry.Point([174.7633, -36.8485])\n",
        "image = ee.ImageCollection('COPERNICUS/S2_SR_HARMONIZED') \\\n",
        "    .filterBounds(point) \\\n",
        "    .filterDate('2023-02-01', '2023-02-28') \\\n",
        "    .sort('CLOUD_COVER') \\\n",
        "    .first()\n",
        "\n",
        "# Select relevant bands and reduce size\n",
        "bands = image.select(['B2', 'B3', 'B4', 'B8'])  # Blue, Green, Red, NIR\n",
        "region = point.buffer(1000).bounds()  # small area for demo\n",
        "\n",
        "# Sample image pixels to NumPy\n",
        "sample = bands.sample(region=region, scale=10, numPixels=1000, seed=42).getInfo()\n",
        "pixels = np.array([list(f['properties'].values()) for f in sample['features']])\n"
      ],
      "metadata": {
        "id": "C2nr9Na0o6gB"
      },
      "execution_count": null,
      "outputs": []
    },
    {
      "cell_type": "markdown",
      "source": [
        "Apply the K-means classifier, noting that we have pulled the pixels out of the earth engine server side to a numpy array on our client side. This is an important and likely common step for your future work in this module!"
      ],
      "metadata": {
        "id": "GSaubGfVpGDP"
      }
    },
    {
      "cell_type": "code",
      "source": [
        "# Sklearn Kmeans alg\n",
        "kmeans_sat = KMeans(n_clusters=4, random_state=0).fit(pixels)\n",
        "labels_sat = kmeans_sat.labels_"
      ],
      "metadata": {
        "id": "qvZ0OhRkpJaW"
      },
      "execution_count": null,
      "outputs": []
    },
    {
      "cell_type": "markdown",
      "source": [
        "Now let's visualize this in 2D Feature Space:"
      ],
      "metadata": {
        "id": "y9ir36Uapfjo"
      }
    },
    {
      "cell_type": "code",
      "source": [
        "# Let's plot Red vs NIR as an example\n",
        "plt.scatter(pixels[:, 2], pixels[:, 3], c=labels_sat, cmap='Set3')\n",
        "plt.xlabel('Red (B4)')\n",
        "plt.ylabel('NIR (B8)')\n",
        "plt.title('K-Means Clustering in Spectral Feature Space')\n",
        "plt.show()"
      ],
      "metadata": {
        "id": "2YxnHugnpcAc"
      },
      "execution_count": null,
      "outputs": []
    },
    {
      "cell_type": "markdown",
      "source": [
        "In you pair, answer the following discussion prompts:\n",
        "- What patterns did the K-means pick up in the image data?\n",
        "- How might the choice of bands or number of clusters affect results?\n",
        "- What are the risks of using K-means for landcover classification?"
      ],
      "metadata": {
        "id": "YSNefmlGQ8uQ"
      }
    }
  ]
}